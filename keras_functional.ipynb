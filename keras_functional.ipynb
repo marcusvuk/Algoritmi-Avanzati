{
 "cells": [
  {
   "cell_type": "code",
   "execution_count": 1,
   "metadata": {},
   "outputs": [],
   "source": [
    "import numpy as np\n",
    "import tensorflow as tf\n",
    "from tensorflow import keras\n",
    "from tensorflow.keras import layers \n",
    "import numpy as np\n",
    "import matplotlib.image as mpimg \n",
    "import matplotlib.pyplot as plt \n",
    "from skimage import io\n",
    "import os\n",
    "import pandas as pd"
   ]
  },
  {
   "cell_type": "code",
   "execution_count": 2,
   "metadata": {},
   "outputs": [
    {
     "name": "stdout",
     "output_type": "stream",
     "text": [
      "65536\n"
     ]
    }
   ],
   "source": [
    "file_label = open(\"project_data/labels/train_labels.txt\", \"r\")\n",
    "val_labels = open(\"project_data/labels/val_labels.txt\", \"r\")\n",
    "bho = [(line.strip()).split() for line in file_label]\n",
    "numeri_test = [numero[0] for numero in bho]\n",
    "y_train = [nome[1] for nome in bho]\n",
    "\n",
    "dio = [(line.strip()).split() for line in val_labels]\n",
    "numeri_val = [numero[0] for numero in dio]\n",
    "y_val = [nome[1] for nome in dio]\n",
    "\n",
    "#X_train è unsorted\n",
    "#X_train contiene tutte le immagini ma non sono sortate per nome\n",
    "import glob\n",
    "X_train = []\n",
    "X_val = []\n",
    "nome_cartella = [\"bacteria\", \"corona\", \"normal\", \"viral\"]\n",
    "\n",
    "for numero in numeri_test:\n",
    "    for cartella in nome_cartella:\n",
    "        for img in glob.glob(\"project_data/images/train/{}/{}.jpeg\".format(cartella, numero)):\n",
    "            n = io.imread(img, as_gray=True)\n",
    "            n = np.reshape(n,65536)\n",
    "            n = n.tolist()\n",
    "            X_train.append(n) \n",
    "for numero in numeri_val:\n",
    "    for cartella in nome_cartella:\n",
    "        for img in glob.glob(\"project_data/images/val/{}/{}.jpeg\".format(cartella, numero)):\n",
    "            n = io.imread(img, as_gray=True)\n",
    "            n = np.reshape(n,65536)\n",
    "            n = n.tolist()\n",
    "            X_val.append(n) \n",
    "print(len(X_train[0]))\n",
    "#plt.imshow(X_train[0])"
   ]
  },
  {
   "cell_type": "code",
   "execution_count": 3,
   "metadata": {
    "scrolled": true
   },
   "outputs": [
    {
     "data": {
      "text/plain": [
       "(3569, 65536)"
      ]
     },
     "execution_count": 3,
     "metadata": {},
     "output_type": "execute_result"
    }
   ],
   "source": [
    "import numpy as np \n",
    "\n",
    "X_train = np.stack(X_train, axis = 0)\n",
    "\n",
    "X_train.shape\n",
    "#plt.imshow(X_train[0])"
   ]
  },
  {
   "cell_type": "code",
   "execution_count": 4,
   "metadata": {},
   "outputs": [
    {
     "data": {
      "text/plain": [
       "(0.0, 1.0)"
      ]
     },
     "execution_count": 4,
     "metadata": {},
     "output_type": "execute_result"
    }
   ],
   "source": [
    "X_train.min(), X_train.max()\n",
    "#plt.imshow(X_train[0])"
   ]
  },
  {
   "cell_type": "code",
   "execution_count": 5,
   "metadata": {},
   "outputs": [],
   "source": [
    "y_train = pd.factorize(y_train) # per rendere il vettore da 0 a 3\n",
    "y_train = y_train[0]\n",
    "y_val = pd.factorize(y_val)\n",
    "y_val = y_val[0]"
   ]
  },
  {
   "cell_type": "code",
   "execution_count": 6,
   "metadata": {},
   "outputs": [
    {
     "data": {
      "text/plain": [
       "array([0, 1, 0, ..., 1, 0, 0])"
      ]
     },
     "execution_count": 6,
     "metadata": {},
     "output_type": "execute_result"
    }
   ],
   "source": [
    "y_train"
   ]
  },
  {
   "cell_type": "code",
   "execution_count": 7,
   "metadata": {},
   "outputs": [
    {
     "name": "stderr",
     "output_type": "stream",
     "text": [
      "Using TensorFlow backend.\n"
     ]
    }
   ],
   "source": [
    "from keras.utils import to_categorical\n",
    "y_train = to_categorical(y_train, num_classes = 4)\n",
    "y_val = to_categorical(y_val, num_classes = 4)"
   ]
  },
  {
   "cell_type": "code",
   "execution_count": 8,
   "metadata": {},
   "outputs": [
    {
     "data": {
      "text/plain": [
       "(3569, 65536)"
      ]
     },
     "execution_count": 8,
     "metadata": {},
     "output_type": "execute_result"
    }
   ],
   "source": [
    "y_train.shape\n",
    "X_train.shape"
   ]
  },
  {
   "cell_type": "code",
   "execution_count": 9,
   "metadata": {},
   "outputs": [],
   "source": [
    "X_train_npy = []\n",
    "X_val_npy = []\n",
    "for nome in glob.glob('project_data/features/train/*'):\n",
    "    n = np.load('{}'.format(nome))\n",
    "    n = n.tolist()\n",
    "    X_train_npy.append(n)\n",
    "for nome in glob.glob('project_data/features/val/*'):\n",
    "    n = np.load('{}'.format(nome))\n",
    "    n = n.tolist()\n",
    "    X_val_npy.append(n)\n",
    "X_val_npy = np.stack(X_val_npy, axis = 0)\n",
    "X_train_npy = np.stack(X_train_npy, axis = 0)\n"
   ]
  },
  {
   "cell_type": "code",
   "execution_count": 10,
   "metadata": {},
   "outputs": [
    {
     "data": {
      "text/plain": [
       "(3569, 84)"
      ]
     },
     "execution_count": 10,
     "metadata": {},
     "output_type": "execute_result"
    }
   ],
   "source": [
    "X_train_npy.shape"
   ]
  },
  {
   "cell_type": "code",
   "execution_count": 28,
   "metadata": {},
   "outputs": [
    {
     "data": {
      "text/plain": [
       "array([1.90403748, 0.        , 0.        , 0.        , 0.03189665,\n",
       "       1.31642258, 0.        , 0.        , 0.        , 0.        ,\n",
       "       0.        , 1.5409174 , 2.21305847, 1.59444511, 0.        ,\n",
       "       0.46223465, 0.        , 2.05552173, 0.        , 0.        ,\n",
       "       2.55537438, 0.        , 0.36178216, 2.8339119 , 1.8925842 ,\n",
       "       1.78515053, 0.120464  , 0.        , 0.        , 0.        ,\n",
       "       0.        , 1.10024309, 0.        , 0.        , 0.        ,\n",
       "       1.11137557, 0.        , 0.02469489, 1.99558008, 2.07351971,\n",
       "       1.75851333, 1.52332735, 0.        , 0.        , 0.        ,\n",
       "       2.16634178, 0.64096564, 0.        , 1.78030562, 0.        ,\n",
       "       0.25273788, 0.        , 0.        , 0.        , 0.        ,\n",
       "       0.        , 0.        , 2.16830397, 0.        , 0.        ,\n",
       "       0.52866948, 0.        , 0.48487186, 3.05217528, 0.        ,\n",
       "       0.        , 0.        , 1.57993138, 0.        , 0.        ,\n",
       "       0.        , 2.23386049, 0.        , 0.51694357, 0.        ,\n",
       "       0.76673591, 1.39457524, 0.        , 0.        , 0.66261166,\n",
       "       1.439973  , 0.        , 0.        , 0.        ])"
      ]
     },
     "execution_count": 28,
     "metadata": {},
     "output_type": "execute_result"
    }
   ],
   "source": [
    "X_train_npy[0]"
   ]
  },
  {
   "cell_type": "code",
   "execution_count": 15,
   "metadata": {},
   "outputs": [],
   "source": [
    "from keras.layers import Input, Dense, Activation\n",
    "from keras.models import Model\n",
    "from keras.models import Sequential\n",
    "from keras.layers import Dense, Dropout, Flatten\n",
    "from keras.layers import Conv2D, MaxPooling2D\n",
    "from tensorflow.keras import regularizers"
   ]
  },
  {
   "cell_type": "code",
   "execution_count": 30,
   "metadata": {},
   "outputs": [
    {
     "name": "stderr",
     "output_type": "stream",
     "text": [
      "/home/marcusvuk/.local/lib/python3.6/site-packages/ipykernel_launcher.py:8: UserWarning: Update your `Model` call to the Keras 2 API: `Model(inputs=Tensor(\"in..., outputs=Tensor(\"de...)`\n",
      "  \n"
     ]
    },
    {
     "name": "stdout",
     "output_type": "stream",
     "text": [
      "Train on 2855 samples, validate on 714 samples\n",
      "Epoch 1/50\n",
      "2855/2855 [==============================] - 0s 128us/step - loss: 0.7397 - accuracy: 0.7380 - val_loss: 0.3849 - val_accuracy: 0.8473\n",
      "Epoch 2/50\n",
      "2855/2855 [==============================] - 0s 60us/step - loss: 0.4524 - accuracy: 0.8308 - val_loss: 0.3603 - val_accuracy: 0.8515\n",
      "Epoch 3/50\n",
      "2855/2855 [==============================] - 0s 49us/step - loss: 0.4118 - accuracy: 0.8497 - val_loss: 0.3553 - val_accuracy: 0.8515\n",
      "Epoch 4/50\n",
      "2855/2855 [==============================] - 0s 63us/step - loss: 0.3989 - accuracy: 0.8574 - val_loss: 0.3473 - val_accuracy: 0.8515\n",
      "Epoch 5/50\n",
      "2855/2855 [==============================] - 0s 75us/step - loss: 0.3805 - accuracy: 0.8623 - val_loss: 0.3621 - val_accuracy: 0.8585\n",
      "Epoch 6/50\n",
      "2855/2855 [==============================] - 0s 50us/step - loss: 0.3684 - accuracy: 0.8690 - val_loss: 0.3439 - val_accuracy: 0.8557\n",
      "Epoch 7/50\n",
      "2855/2855 [==============================] - 0s 49us/step - loss: 0.3541 - accuracy: 0.8627 - val_loss: 0.3469 - val_accuracy: 0.8641\n",
      "Epoch 8/50\n",
      "2855/2855 [==============================] - 0s 49us/step - loss: 0.3557 - accuracy: 0.8715 - val_loss: 0.3513 - val_accuracy: 0.8571\n",
      "Epoch 9/50\n",
      "2855/2855 [==============================] - 0s 50us/step - loss: 0.3444 - accuracy: 0.8753 - val_loss: 0.3530 - val_accuracy: 0.8613\n",
      "Epoch 10/50\n",
      "2855/2855 [==============================] - 0s 51us/step - loss: 0.3356 - accuracy: 0.8739 - val_loss: 0.3581 - val_accuracy: 0.8599\n",
      "Epoch 11/50\n",
      "2855/2855 [==============================] - 0s 52us/step - loss: 0.3336 - accuracy: 0.8767 - val_loss: 0.3589 - val_accuracy: 0.8655\n",
      "Epoch 12/50\n",
      "2855/2855 [==============================] - 0s 57us/step - loss: 0.3211 - accuracy: 0.8760 - val_loss: 0.3573 - val_accuracy: 0.8613\n",
      "Epoch 13/50\n",
      "2855/2855 [==============================] - 0s 48us/step - loss: 0.3197 - accuracy: 0.8820 - val_loss: 0.3608 - val_accuracy: 0.8627\n",
      "Epoch 14/50\n",
      "2855/2855 [==============================] - 0s 49us/step - loss: 0.3137 - accuracy: 0.8823 - val_loss: 0.3659 - val_accuracy: 0.8613\n",
      "Epoch 15/50\n",
      "2855/2855 [==============================] - 0s 50us/step - loss: 0.2991 - accuracy: 0.8876 - val_loss: 0.3626 - val_accuracy: 0.8599\n",
      "Epoch 16/50\n",
      "2855/2855 [==============================] - 0s 49us/step - loss: 0.3006 - accuracy: 0.8851 - val_loss: 0.3696 - val_accuracy: 0.8543\n",
      "Epoch 17/50\n",
      "2855/2855 [==============================] - 0s 68us/step - loss: 0.2919 - accuracy: 0.8935 - val_loss: 0.3813 - val_accuracy: 0.8515\n",
      "Epoch 18/50\n",
      "2855/2855 [==============================] - 0s 54us/step - loss: 0.2809 - accuracy: 0.8907 - val_loss: 0.3830 - val_accuracy: 0.8599\n",
      "Epoch 19/50\n",
      "2855/2855 [==============================] - 0s 50us/step - loss: 0.2766 - accuracy: 0.8953 - val_loss: 0.3811 - val_accuracy: 0.8543\n",
      "Epoch 20/50\n",
      "2855/2855 [==============================] - 0s 48us/step - loss: 0.2738 - accuracy: 0.8939 - val_loss: 0.3854 - val_accuracy: 0.8585\n",
      "Epoch 21/50\n",
      "2855/2855 [==============================] - 0s 50us/step - loss: 0.2681 - accuracy: 0.8995 - val_loss: 0.3889 - val_accuracy: 0.8585\n",
      "Epoch 22/50\n",
      "2855/2855 [==============================] - 0s 49us/step - loss: 0.2533 - accuracy: 0.9047 - val_loss: 0.4044 - val_accuracy: 0.8571\n",
      "Epoch 23/50\n",
      "2855/2855 [==============================] - 0s 49us/step - loss: 0.2540 - accuracy: 0.9058 - val_loss: 0.4130 - val_accuracy: 0.8557\n",
      "Epoch 24/50\n",
      "2855/2855 [==============================] - 0s 49us/step - loss: 0.2444 - accuracy: 0.9075 - val_loss: 0.4066 - val_accuracy: 0.8557\n",
      "Epoch 25/50\n",
      "2855/2855 [==============================] - 0s 75us/step - loss: 0.2366 - accuracy: 0.9110 - val_loss: 0.4080 - val_accuracy: 0.8529\n",
      "Epoch 26/50\n",
      "2855/2855 [==============================] - 0s 51us/step - loss: 0.2342 - accuracy: 0.9201 - val_loss: 0.4377 - val_accuracy: 0.8599\n",
      "Epoch 27/50\n",
      "2855/2855 [==============================] - 0s 49us/step - loss: 0.2293 - accuracy: 0.9131 - val_loss: 0.4502 - val_accuracy: 0.8543\n",
      "Epoch 28/50\n",
      "2855/2855 [==============================] - 0s 49us/step - loss: 0.2234 - accuracy: 0.9229 - val_loss: 0.4332 - val_accuracy: 0.8557\n",
      "Epoch 29/50\n",
      "2855/2855 [==============================] - 0s 49us/step - loss: 0.2058 - accuracy: 0.9278 - val_loss: 0.4540 - val_accuracy: 0.8543\n",
      "Epoch 30/50\n",
      "2855/2855 [==============================] - 0s 63us/step - loss: 0.2136 - accuracy: 0.9271 - val_loss: 0.4917 - val_accuracy: 0.8529\n",
      "Epoch 31/50\n",
      "2855/2855 [==============================] - 0s 62us/step - loss: 0.1951 - accuracy: 0.9261 - val_loss: 0.4997 - val_accuracy: 0.8515\n"
     ]
    },
    {
     "data": {
      "text/plain": [
       "<keras.callbacks.callbacks.History at 0x7f3f547159e8>"
      ]
     },
     "execution_count": 30,
     "metadata": {},
     "output_type": "execute_result"
    }
   ],
   "source": [
    "img_input = Input(shape=(84,)) #input layer, occhio che shape è una tupla\n",
    "\n",
    "x = Dense(units = 60, activation = 'relu',  kernel_regularizer=regularizers.l1_l2(l1=1e-5, l2=1e-4),)(img_input) \n",
    "x = Dense(units = 40, activation = 'relu',  kernel_regularizer=regularizers.l1_l2(l1=1e-5, l2=1e-4),)(x)#img_input viene passato a x\n",
    "x = Dropout(0.5)(x)\n",
    "x = Dense(units = 4, activation = 'sigmoid')(x)\n",
    "\n",
    "model = Model(inputs = img_input, output = x)\n",
    "\n",
    "callback = tf.keras.callbacks.EarlyStopping(monitor='accuracy', patience=2, restore_best_weights=True)\n",
    "model.compile(optimizer = 'adam', \n",
    "              loss = 'categorical_crossentropy', \n",
    "              metrics = ['accuracy'])\n",
    "model.fit(X_train_npy, y_train, batch_size = 20, \n",
    "          epochs = 50, validation_split = 0.2, callbacks=[callback], shuffle = True)"
   ]
  },
  {
   "cell_type": "code",
   "execution_count": 31,
   "metadata": {},
   "outputs": [
    {
     "name": "stdout",
     "output_type": "stream",
     "text": [
      "['loss', 'accuracy']\n",
      "1189/1189 [==============================] - 0s 24us/step\n"
     ]
    },
    {
     "data": {
      "text/plain": [
       "[0.8465778596567647, 0.7830109596252441]"
      ]
     },
     "execution_count": 31,
     "metadata": {},
     "output_type": "execute_result"
    }
   ],
   "source": [
    "print(model.metrics_names)\n",
    "model.evaluate(X_val_npy, y_val)"
   ]
  },
  {
   "cell_type": "code",
   "execution_count": 24,
   "metadata": {},
   "outputs": [],
   "source": [
    "y_pred = model.predict(X_val_npy)"
   ]
  },
  {
   "cell_type": "code",
   "execution_count": 25,
   "metadata": {},
   "outputs": [
    {
     "data": {
      "text/plain": [
       "array([[8.8745201e-01, 1.4901161e-07, 0.0000000e+00, 0.0000000e+00],\n",
       "       [9.9997675e-01, 0.0000000e+00, 0.0000000e+00, 0.0000000e+00],\n",
       "       [2.9802322e-08, 9.0317649e-01, 4.0809005e-02, 0.0000000e+00],\n",
       "       ...,\n",
       "       [7.7486038e-07, 8.4098244e-01, 2.8810799e-03, 5.9604645e-08],\n",
       "       [1.6093254e-06, 7.6544940e-01, 5.0687939e-02, 2.3841858e-07],\n",
       "       [7.2065141e-06, 6.3802153e-01, 4.5401886e-02, 1.8005805e-07]],\n",
       "      dtype=float32)"
      ]
     },
     "execution_count": 25,
     "metadata": {},
     "output_type": "execute_result"
    }
   ],
   "source": [
    "y_pred"
   ]
  }
 ],
 "metadata": {
  "kernelspec": {
   "display_name": "Python 3",
   "language": "python",
   "name": "python3"
  },
  "language_info": {
   "codemirror_mode": {
    "name": "ipython",
    "version": 3
   },
   "file_extension": ".py",
   "mimetype": "text/x-python",
   "name": "python",
   "nbconvert_exporter": "python",
   "pygments_lexer": "ipython3",
   "version": "3.6.9"
  }
 },
 "nbformat": 4,
 "nbformat_minor": 4
}
